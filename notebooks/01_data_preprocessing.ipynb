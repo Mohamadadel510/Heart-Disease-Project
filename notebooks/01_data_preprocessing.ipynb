{
 "cells": [
  {
   "cell_type": "code",
   "execution_count": 1,
   "id": "695fa187",
   "metadata": {},
   "outputs": [],
   "source": [
    "import pandas as pd\n",
    "import numpy as np\n",
    "import matplotlib.pyplot as plt\n",
    "import seaborn as sns\n",
    "from sklearn.preprocessing import StandardScaler, MinMaxScaler\n",
    "from sklearn.model_selection import train_test_split\n",
    "from ucimlrepo import fetch_ucirepo\n"
   ]
  },
  {
   "cell_type": "code",
   "execution_count": 2,
   "id": "02019c38",
   "metadata": {},
   "outputs": [
    {
     "name": "stdout",
     "output_type": "stream",
     "text": [
      "Fetching Heart Diease dataset from UCI ML Respo\n"
     ]
    }
   ],
   "source": [
    "print(\"Fetching Heart Diease dataset from UCI ML Respo\")\n",
    "heart_disease = fetch_ucirepo(id = 45)"
   ]
  },
  {
   "cell_type": "code",
   "execution_count": 3,
   "id": "bcbcf826",
   "metadata": {},
   "outputs": [],
   "source": [
    "#extract data\n",
    "x = heart_disease.data.features\n",
    "y = heart_disease.data.targets"
   ]
  },
  {
   "cell_type": "code",
   "execution_count": 4,
   "id": "069f75ed",
   "metadata": {},
   "outputs": [
    {
     "name": "stdout",
     "output_type": "stream",
     "text": [
      "Dataset Information:\n",
      "features Shape:(303, 13)\n",
      "target Shape:(303, 1)\n",
      "\n",
      "Feature  columns:['age', 'sex', 'cp', 'trestbps', 'chol', 'fbs', 'restecg', 'thalach', 'exang', 'oldpeak', 'slope', 'ca', 'thal']\n",
      "\n",
      "Feature  columns['num']\n"
     ]
    }
   ],
   "source": [
    "print(\"Dataset Information:\")\n",
    "print(f\"features Shape:{x.shape}\")\n",
    "print(f\"target Shape:{y.shape}\")\n",
    "print(f\"\\nFeature  columns:{list(x.columns)}\")\n",
    "print(f\"\\nFeature  columns{list(y.columns)}\")"
   ]
  },
  {
   "cell_type": "code",
   "execution_count": 5,
   "id": "cd07610b",
   "metadata": {},
   "outputs": [
    {
     "data": {
      "text/plain": [
       "(303, 14)"
      ]
     },
     "execution_count": 5,
     "metadata": {},
     "output_type": "execute_result"
    }
   ],
   "source": [
    "#combine Features and targets into a single dataframe\n",
    "df = pd.concat([x, y], axis=1)\n",
    "df.shape"
   ]
  },
  {
   "cell_type": "code",
   "execution_count": 6,
   "id": "02b155d5",
   "metadata": {},
   "outputs": [
    {
     "name": "stdout",
     "output_type": "stream",
     "text": [
      "Dataset Info:\n",
      "<class 'pandas.core.frame.DataFrame'>\n",
      "RangeIndex: 303 entries, 0 to 302\n",
      "Data columns (total 14 columns):\n",
      " #   Column    Non-Null Count  Dtype  \n",
      "---  ------    --------------  -----  \n",
      " 0   age       303 non-null    int64  \n",
      " 1   sex       303 non-null    int64  \n",
      " 2   cp        303 non-null    int64  \n",
      " 3   trestbps  303 non-null    int64  \n",
      " 4   chol      303 non-null    int64  \n",
      " 5   fbs       303 non-null    int64  \n",
      " 6   restecg   303 non-null    int64  \n",
      " 7   thalach   303 non-null    int64  \n",
      " 8   exang     303 non-null    int64  \n",
      " 9   oldpeak   303 non-null    float64\n",
      " 10  slope     303 non-null    int64  \n",
      " 11  ca        299 non-null    float64\n",
      " 12  thal      301 non-null    float64\n",
      " 13  num       303 non-null    int64  \n",
      "dtypes: float64(3), int64(11)\n",
      "memory usage: 33.3 KB\n",
      "First rows\n",
      "   age  sex  cp  trestbps  chol  fbs  restecg  thalach  exang  oldpeak  slope  \\\n",
      "0   63    1   1       145   233    1        2      150      0      2.3      3   \n",
      "1   67    1   4       160   286    0        2      108      1      1.5      2   \n",
      "2   67    1   4       120   229    0        2      129      1      2.6      2   \n",
      "3   37    1   3       130   250    0        0      187      0      3.5      3   \n",
      "4   41    0   2       130   204    0        2      172      0      1.4      1   \n",
      "\n",
      "    ca  thal  num  \n",
      "0  0.0   6.0    0  \n",
      "1  3.0   3.0    2  \n",
      "2  2.0   7.0    1  \n",
      "3  0.0   3.0    0  \n",
      "4  0.0   3.0    0  \n",
      "Dataset descr\n"
     ]
    },
    {
     "data": {
      "text/html": [
       "<div>\n",
       "<style scoped>\n",
       "    .dataframe tbody tr th:only-of-type {\n",
       "        vertical-align: middle;\n",
       "    }\n",
       "\n",
       "    .dataframe tbody tr th {\n",
       "        vertical-align: top;\n",
       "    }\n",
       "\n",
       "    .dataframe thead th {\n",
       "        text-align: right;\n",
       "    }\n",
       "</style>\n",
       "<table border=\"1\" class=\"dataframe\">\n",
       "  <thead>\n",
       "    <tr style=\"text-align: right;\">\n",
       "      <th></th>\n",
       "      <th>age</th>\n",
       "      <th>sex</th>\n",
       "      <th>cp</th>\n",
       "      <th>trestbps</th>\n",
       "      <th>chol</th>\n",
       "      <th>fbs</th>\n",
       "      <th>restecg</th>\n",
       "      <th>thalach</th>\n",
       "      <th>exang</th>\n",
       "      <th>oldpeak</th>\n",
       "      <th>slope</th>\n",
       "      <th>ca</th>\n",
       "      <th>thal</th>\n",
       "      <th>num</th>\n",
       "    </tr>\n",
       "  </thead>\n",
       "  <tbody>\n",
       "    <tr>\n",
       "      <th>count</th>\n",
       "      <td>303.000000</td>\n",
       "      <td>303.000000</td>\n",
       "      <td>303.000000</td>\n",
       "      <td>303.000000</td>\n",
       "      <td>303.000000</td>\n",
       "      <td>303.000000</td>\n",
       "      <td>303.000000</td>\n",
       "      <td>303.000000</td>\n",
       "      <td>303.000000</td>\n",
       "      <td>303.000000</td>\n",
       "      <td>303.000000</td>\n",
       "      <td>299.000000</td>\n",
       "      <td>301.000000</td>\n",
       "      <td>303.000000</td>\n",
       "    </tr>\n",
       "    <tr>\n",
       "      <th>mean</th>\n",
       "      <td>54.438944</td>\n",
       "      <td>0.679868</td>\n",
       "      <td>3.158416</td>\n",
       "      <td>131.689769</td>\n",
       "      <td>246.693069</td>\n",
       "      <td>0.148515</td>\n",
       "      <td>0.990099</td>\n",
       "      <td>149.607261</td>\n",
       "      <td>0.326733</td>\n",
       "      <td>1.039604</td>\n",
       "      <td>1.600660</td>\n",
       "      <td>0.672241</td>\n",
       "      <td>4.734219</td>\n",
       "      <td>0.937294</td>\n",
       "    </tr>\n",
       "    <tr>\n",
       "      <th>std</th>\n",
       "      <td>9.038662</td>\n",
       "      <td>0.467299</td>\n",
       "      <td>0.960126</td>\n",
       "      <td>17.599748</td>\n",
       "      <td>51.776918</td>\n",
       "      <td>0.356198</td>\n",
       "      <td>0.994971</td>\n",
       "      <td>22.875003</td>\n",
       "      <td>0.469794</td>\n",
       "      <td>1.161075</td>\n",
       "      <td>0.616226</td>\n",
       "      <td>0.937438</td>\n",
       "      <td>1.939706</td>\n",
       "      <td>1.228536</td>\n",
       "    </tr>\n",
       "    <tr>\n",
       "      <th>min</th>\n",
       "      <td>29.000000</td>\n",
       "      <td>0.000000</td>\n",
       "      <td>1.000000</td>\n",
       "      <td>94.000000</td>\n",
       "      <td>126.000000</td>\n",
       "      <td>0.000000</td>\n",
       "      <td>0.000000</td>\n",
       "      <td>71.000000</td>\n",
       "      <td>0.000000</td>\n",
       "      <td>0.000000</td>\n",
       "      <td>1.000000</td>\n",
       "      <td>0.000000</td>\n",
       "      <td>3.000000</td>\n",
       "      <td>0.000000</td>\n",
       "    </tr>\n",
       "    <tr>\n",
       "      <th>25%</th>\n",
       "      <td>48.000000</td>\n",
       "      <td>0.000000</td>\n",
       "      <td>3.000000</td>\n",
       "      <td>120.000000</td>\n",
       "      <td>211.000000</td>\n",
       "      <td>0.000000</td>\n",
       "      <td>0.000000</td>\n",
       "      <td>133.500000</td>\n",
       "      <td>0.000000</td>\n",
       "      <td>0.000000</td>\n",
       "      <td>1.000000</td>\n",
       "      <td>0.000000</td>\n",
       "      <td>3.000000</td>\n",
       "      <td>0.000000</td>\n",
       "    </tr>\n",
       "    <tr>\n",
       "      <th>50%</th>\n",
       "      <td>56.000000</td>\n",
       "      <td>1.000000</td>\n",
       "      <td>3.000000</td>\n",
       "      <td>130.000000</td>\n",
       "      <td>241.000000</td>\n",
       "      <td>0.000000</td>\n",
       "      <td>1.000000</td>\n",
       "      <td>153.000000</td>\n",
       "      <td>0.000000</td>\n",
       "      <td>0.800000</td>\n",
       "      <td>2.000000</td>\n",
       "      <td>0.000000</td>\n",
       "      <td>3.000000</td>\n",
       "      <td>0.000000</td>\n",
       "    </tr>\n",
       "    <tr>\n",
       "      <th>75%</th>\n",
       "      <td>61.000000</td>\n",
       "      <td>1.000000</td>\n",
       "      <td>4.000000</td>\n",
       "      <td>140.000000</td>\n",
       "      <td>275.000000</td>\n",
       "      <td>0.000000</td>\n",
       "      <td>2.000000</td>\n",
       "      <td>166.000000</td>\n",
       "      <td>1.000000</td>\n",
       "      <td>1.600000</td>\n",
       "      <td>2.000000</td>\n",
       "      <td>1.000000</td>\n",
       "      <td>7.000000</td>\n",
       "      <td>2.000000</td>\n",
       "    </tr>\n",
       "    <tr>\n",
       "      <th>max</th>\n",
       "      <td>77.000000</td>\n",
       "      <td>1.000000</td>\n",
       "      <td>4.000000</td>\n",
       "      <td>200.000000</td>\n",
       "      <td>564.000000</td>\n",
       "      <td>1.000000</td>\n",
       "      <td>2.000000</td>\n",
       "      <td>202.000000</td>\n",
       "      <td>1.000000</td>\n",
       "      <td>6.200000</td>\n",
       "      <td>3.000000</td>\n",
       "      <td>3.000000</td>\n",
       "      <td>7.000000</td>\n",
       "      <td>4.000000</td>\n",
       "    </tr>\n",
       "  </tbody>\n",
       "</table>\n",
       "</div>"
      ],
      "text/plain": [
       "              age         sex          cp    trestbps        chol         fbs  \\\n",
       "count  303.000000  303.000000  303.000000  303.000000  303.000000  303.000000   \n",
       "mean    54.438944    0.679868    3.158416  131.689769  246.693069    0.148515   \n",
       "std      9.038662    0.467299    0.960126   17.599748   51.776918    0.356198   \n",
       "min     29.000000    0.000000    1.000000   94.000000  126.000000    0.000000   \n",
       "25%     48.000000    0.000000    3.000000  120.000000  211.000000    0.000000   \n",
       "50%     56.000000    1.000000    3.000000  130.000000  241.000000    0.000000   \n",
       "75%     61.000000    1.000000    4.000000  140.000000  275.000000    0.000000   \n",
       "max     77.000000    1.000000    4.000000  200.000000  564.000000    1.000000   \n",
       "\n",
       "          restecg     thalach       exang     oldpeak       slope          ca  \\\n",
       "count  303.000000  303.000000  303.000000  303.000000  303.000000  299.000000   \n",
       "mean     0.990099  149.607261    0.326733    1.039604    1.600660    0.672241   \n",
       "std      0.994971   22.875003    0.469794    1.161075    0.616226    0.937438   \n",
       "min      0.000000   71.000000    0.000000    0.000000    1.000000    0.000000   \n",
       "25%      0.000000  133.500000    0.000000    0.000000    1.000000    0.000000   \n",
       "50%      1.000000  153.000000    0.000000    0.800000    2.000000    0.000000   \n",
       "75%      2.000000  166.000000    1.000000    1.600000    2.000000    1.000000   \n",
       "max      2.000000  202.000000    1.000000    6.200000    3.000000    3.000000   \n",
       "\n",
       "             thal         num  \n",
       "count  301.000000  303.000000  \n",
       "mean     4.734219    0.937294  \n",
       "std      1.939706    1.228536  \n",
       "min      3.000000    0.000000  \n",
       "25%      3.000000    0.000000  \n",
       "50%      3.000000    0.000000  \n",
       "75%      7.000000    2.000000  \n",
       "max      7.000000    4.000000  "
      ]
     },
     "execution_count": 6,
     "metadata": {},
     "output_type": "execute_result"
    }
   ],
   "source": [
    "#display info\n",
    "print(\"Dataset Info:\")\n",
    "df.info()\n",
    "print(\"First rows\")\n",
    "print(df.head())\n",
    "print(\"Dataset descr\")\n",
    "df.describe()\n"
   ]
  },
  {
   "cell_type": "code",
   "execution_count": 7,
   "id": "155b4ace",
   "metadata": {},
   "outputs": [
    {
     "name": "stdout",
     "output_type": "stream",
     "text": [
      "Missing values per column\n",
      "age         0\n",
      "sex         0\n",
      "cp          0\n",
      "trestbps    0\n",
      "chol        0\n",
      "fbs         0\n",
      "restecg     0\n",
      "thalach     0\n",
      "exang       0\n",
      "oldpeak     0\n",
      "slope       0\n",
      "ca          4\n",
      "thal        2\n",
      "num         0\n",
      "dtype: int64\n",
      "Total: 6\n"
     ]
    }
   ],
   "source": [
    "#check misisng values\n",
    "print(\"Missing values per column\")\n",
    "missing_values = df.isnull().sum()\n",
    "print(missing_values)\n",
    "print(f\"Total: {missing_values.sum()}\")\n"
   ]
  },
  {
   "cell_type": "code",
   "execution_count": 8,
   "id": "32a04052",
   "metadata": {},
   "outputs": [
    {
     "name": "stdout",
     "output_type": "stream",
     "text": [
      "\n",
      "Target variable(num)dist:\n",
      "num\n",
      "0    164\n",
      "1     55\n",
      "2     36\n",
      "3     35\n",
      "4     13\n",
      "Name: count, dtype: int64\n",
      "Target Value count(%):\n",
      "num\n",
      "0    54.125413\n",
      "1    18.151815\n",
      "2    11.881188\n",
      "3    11.551155\n",
      "4     4.290429\n",
      "Name: proportion, dtype: float64\n"
     ]
    }
   ],
   "source": [
    "#target distribution and knowing its precentage\n",
    "target_col = y.columns[0]\n",
    "print(f\"\\nTarget variable({target_col})dist:\")\n",
    "print(df[target_col].value_counts())\n",
    "print(f\"Target Value count(%):\")\n",
    "print(df[target_col].value_counts(normalize =True)*100)\n"
   ]
  },
  {
   "cell_type": "code",
   "execution_count": 9,
   "id": "521f8d42",
   "metadata": {},
   "outputs": [
    {
     "name": "stdout",
     "output_type": "stream",
     "text": [
      "Handling missing values..\n",
      "Missing values found , applying imputation....\n",
      "Filled ca missing values with median:0.0\n",
      "Filled thal missing values with median:3.0\n",
      "Dataset shape after handling missing values: (303, 14)\n"
     ]
    }
   ],
   "source": [
    "#coping the data frame to clean it \n",
    "print(\"Handling missing values..\")\n",
    "df_clean = df.copy()\n",
    "#Handle missing values if any\n",
    "# there is no categorical data so just checking numerical misses\n",
    "if missing_values.sum()> 0:\n",
    "    print(\"Missing values found , applying imputation....\")\n",
    "    numerical_cols = df_clean.select_dtypes(include = [np.number]).columns\n",
    "    for col in numerical_cols:\n",
    "        if df_clean[col].isnull().sum() > 0:\n",
    "            median_val = df_clean[col].median()\n",
    "            # if there is a missing value it replaces it withe the median \n",
    "            df_clean[col] = df_clean[col].fillna(median_val)\n",
    "            print(f\"Filled {col} missing values with median:{median_val}\")\n",
    "else:\n",
    "    print(\"No missing values Found.\")\n",
    "print(f\"Dataset shape after handling missing values: {df_clean.shape}\")\n",
    "#update the main dataframe\n",
    "\n"
   ]
  },
  {
   "cell_type": "code",
   "execution_count": 10,
   "id": "2b2736c5",
   "metadata": {},
   "outputs": [
    {
     "name": "stdout",
     "output_type": "stream",
     "text": [
      "unique target values:[np.int64(0), np.int64(1), np.int64(2), np.int64(3), np.int64(4)]\n"
     ]
    }
   ],
   "source": [
    "#convert target to binary if multi-class\n",
    "target_col = y.columns[0]\n",
    "unique_targets =df_clean[target_col].unique()\n",
    "print(f\"unique target values:{sorted(unique_targets)}\")\n",
    "\n"
   ]
  },
  {
   "cell_type": "code",
   "execution_count": 11,
   "id": "ce3013ca",
   "metadata": {},
   "outputs": [
    {
     "name": "stdout",
     "output_type": "stream",
     "text": [
      "Convertinf mulit to binary class\n",
      "New target distribution:\n",
      "<bound method IndexOpsMixin.value_counts of 0      0\n",
      "1      1\n",
      "2      1\n",
      "3      0\n",
      "4      0\n",
      "      ..\n",
      "298    1\n",
      "299    1\n",
      "300    1\n",
      "301    1\n",
      "302    0\n",
      "Name: num, Length: 303, dtype: int64>\n",
      "Data types:\n",
      "age           int64\n",
      "sex           int64\n",
      "cp            int64\n",
      "trestbps      int64\n",
      "chol          int64\n",
      "fbs           int64\n",
      "restecg       int64\n",
      "thalach       int64\n",
      "exang         int64\n",
      "oldpeak     float64\n",
      "slope         int64\n",
      "ca          float64\n",
      "thal        float64\n",
      "num           int64\n",
      "dtype: object\n"
     ]
    }
   ],
   "source": [
    "if len(unique_targets)>2:\n",
    "    print(\"Convertinf mulit to binary class\")\n",
    "    # if ==0 no disease else disease present\n",
    "    df_clean[target_col] = (df_clean[target_col] > 0).astype(int)\n",
    "    print(f\"New target distribution:\\n{df_clean[target_col].value_counts}\")\n",
    "print(\"Data types:\")\n",
    "print(df_clean.dtypes)\n",
    "    "
   ]
  },
  {
   "cell_type": "code",
   "execution_count": 12,
   "id": "f7fa553e",
   "metadata": {},
   "outputs": [],
   "source": [
    "#the next cell concert text to numbers (not needed for this dataset)"
   ]
  },
  {
   "cell_type": "code",
   "execution_count": 13,
   "id": "443fb8d6",
   "metadata": {},
   "outputs": [
    {
     "name": "stdout",
     "output_type": "stream",
     "text": [
      "Final feature columns: ['age', 'sex', 'cp', 'trestbps', 'chol', 'fbs', 'restecg', 'thalach', 'exang', 'oldpeak', 'slope', 'ca', 'thal']\n",
      "Target column: num\n"
     ]
    }
   ],
   "source": [
    "\n",
    "feature_cols = [col for col in df_clean.columns if col != target_col]\n",
    "for col in feature_cols:\n",
    "    if df_clean[col].dtype == 'object':\n",
    "        try:\n",
    "            df_clean[col] = pd.to_numeric(df_clean[col], errors='coerce')\n",
    "            print(f\"Converted {col} to numeric\")\n",
    "        except:\n",
    "            print(f\"Could not convert {col} to numeric, keeping as is\")\n",
    "\n",
    "print(f\"Final feature columns: {feature_cols}\")\n",
    "print(f\"Target column: {target_col}\")"
   ]
  },
  {
   "cell_type": "code",
   "execution_count": 14,
   "id": "39ee70b5",
   "metadata": {},
   "outputs": [
    {
     "name": "stdout",
     "output_type": "stream",
     "text": [
      "\n",
      "Handling categorical variables...\n",
      "cp: 4 unique values - [np.int64(1), np.int64(2), np.int64(3), np.int64(4)]\n",
      "restecg: 3 unique values - [np.int64(0), np.int64(1), np.int64(2)]\n",
      "slope: 3 unique values - [np.int64(1), np.int64(2), np.int64(3)]\n",
      "ca: 4 unique values - [np.float64(0.0), np.float64(1.0), np.float64(2.0), np.float64(3.0)]\n",
      "thal: 3 unique values - [np.float64(3.0), np.float64(6.0), np.float64(7.0)]\n",
      "One-hot encoding cp...\n",
      "One-hot encoding restecg...\n",
      "One-hot encoding slope...\n",
      "One-hot encoding ca...\n",
      "One-hot encoding thal...\n",
      "Dataset shape after encoding: (303, 21)\n",
      "Final columns: ['age', 'sex', 'trestbps', 'chol', 'fbs', 'thalach', 'exang', 'oldpeak', 'num', 'cp_2', 'cp_3', 'cp_4', 'restecg_1', 'restecg_2', 'slope_2', 'slope_3', 'ca_1.0', 'ca_2.0', 'ca_3.0', 'thal_6.0', 'thal_7.0']\n",
      "\n",
      "Scaling features...\n"
     ]
    }
   ],
   "source": [
    "# Handle categorical variables if needed\n",
    "print(\"\\nHandling categorical variables...\")\n",
    "df_processed = df_clean.copy()\n",
    "\n",
    "# Check for categorical features that need encoding\n",
    "categorical_features = []\n",
    "for col in feature_cols:\n",
    "    if df_processed[col].nunique() <= 10 and df_processed[col].nunique() > 2:\n",
    "        print(f\"{col}: {df_processed[col].nunique()} unique values - {sorted(df_processed[col].unique())}\")\n",
    "        categorical_features.append(col)\n",
    "\n",
    "# Apply one-hot encoding for multi-class categorical features\n",
    "for col in categorical_features:\n",
    "    if df_processed[col].nunique() > 2:\n",
    "        print(f\"One-hot encoding {col}...\")\n",
    "        dummies = pd.get_dummies(df_processed[col], prefix=col, drop_first=True)\n",
    "        df_processed = pd.concat([df_processed, dummies], axis=1)\n",
    "        df_processed = df_processed.drop(col, axis=1)\n",
    "\n",
    "print(f\"Dataset shape after encoding: {df_processed.shape}\")\n",
    "print(f\"Final columns: {list(df_processed.columns)}\")\n",
    "\n",
    "# Scale numerical features\n",
    "print(\"\\nScaling features...\")\n",
    "scaler = StandardScaler()\n",
    "feature_cols_final = [col for col in df_processed.columns if col != target_col]\n",
    "df_processed[feature_cols_final] = scaler.fit_transform(df_processed[feature_cols_final])\n"
   ]
  },
  {
   "cell_type": "code",
   "execution_count": 15,
   "id": "b60bcb85",
   "metadata": {},
   "outputs": [
    {
     "name": "stdout",
     "output_type": "stream",
     "text": [
      "scaler saved to ../models/scaler.pkl\n"
     ]
    }
   ],
   "source": [
    "# save the scaler for later use\n",
    "import joblib ,os\n",
    "if not os.path.exists('../models'):\n",
    "    os.makedirs('../models')\n",
    "joblib.dump(scaler, '../models/scaler.pkl')\n",
    "print(\"scaler saved to ../models/scaler.pkl\")"
   ]
  },
  {
   "cell_type": "code",
   "execution_count": 16,
   "id": "407499ad",
   "metadata": {},
   "outputs": [
    {
     "data": {
      "text/plain": [
       "<Figure size 1600x1200 with 0 Axes>"
      ]
     },
     "metadata": {},
     "output_type": "display_data"
    }
   ],
   "source": [
    "#visual\n",
    "plt.style.use('default')\n",
    "flag = plt.figure(figsize=(16,12))\n"
   ]
  },
  {
   "cell_type": "code",
   "execution_count": 17,
   "id": "be7efbfe",
   "metadata": {},
   "outputs": [
    {
     "data": {
      "text/plain": [
       "Text(0.5, 1.0, 'Feature Correlation Heatmap')"
      ]
     },
     "execution_count": 17,
     "metadata": {},
     "output_type": "execute_result"
    },
    {
     "data": {
      "image/png": "[encoded data removed]",
      "text/plain": [
       "<Figure size 640x480 with 2 Axes>"
      ]
     },
     "metadata": {},
     "output_type": "display_data"
    }
   ],
   "source": [
    "#correlation heatmap\n",
    "\n",
    "plt.subplot(3, 2, 1)\n",
    "correlation_matrix = df_processed.corr()\n",
    "sns.heatmap(correlation_matrix ,annot=False , cmap='coolwarm', center=0,fmt='.2f',cbar_kws={'shrink':1} )\n",
    "plt.title('Feature Correlation Heatmap')\n"
   ]
  },
  {
   "cell_type": "code",
   "execution_count": 18,
   "id": "ce8c0921",
   "metadata": {},
   "outputs": [
    {
     "data": {
      "text/plain": [
       "Text(0.5, 1.0, 'Target Distribution')"
      ]
     },
     "execution_count": 18,
     "metadata": {},
     "output_type": "execute_result"
    },
    {
     "data": {
      "image/png": "[encoded data removed]",
      "text/plain": [
       "<Figure size 640x480 with 1 Axes>"
      ]
     },
     "metadata": {},
     "output_type": "display_data"
    }
   ],
   "source": [
    "#plot target distribution \n",
    "plt.subplot(3, 2, 2)\n",
    "target_count = df_clean[target_col].value_counts()\n",
    "plt.pie(target_count.values, labels= [f'No Disease (0)', f'Disease (1)'], autopct ='%1.1f%%')\n",
    "plt.title('Target Distribution')"
   ]
  },
  {
   "cell_type": "code",
   "execution_count": 19,
   "id": "c0ffd8bb",
   "metadata": {},
   "outputs": [
    {
     "data": {
      "image/png": "[encoded data removed]",
      "text/plain": [
       "<Figure size 640x480 with 1 Axes>"
      ]
     },
     "metadata": {},
     "output_type": "display_data"
    }
   ],
   "source": [
    "#feature distribution unscaled data\n",
    "plt.subplot(3, 2, 3)\n",
    "if 'age' in df_clean.columns:\n",
    "    sns.boxplot(data=df_clean, x=target_col, y='age')\n",
    "    plt.title('Age Distribution by Heart Disease')\n",
    "elif feature_cols_final:\n",
    "    # Use first available feature\n",
    "    first_feature = feature_cols_final[0]\n",
    "    sns.boxplot(data=df_clean, x=target_col, y=first_feature)\n",
    "    plt.title(f'{first_feature} Distribution by Heart Disease')\n"
   ]
  },
  {
   "cell_type": "code",
   "execution_count": 20,
   "id": "c889976f",
   "metadata": {},
   "outputs": [
    {
     "data": {
      "image/png": "[encoded data removed]",
      "text/plain": [
       "<Figure size 640x480 with 1 Axes>"
      ]
     },
     "metadata": {},
     "output_type": "display_data"
    },
    {
     "data": {
      "image/png": "[encoded data removed]",
      "text/plain": [
       "<Figure size 640x480 with 1 Axes>"
      ]
     },
     "metadata": {},
     "output_type": "display_data"
    }
   ],
   "source": [
    "plt.subplot(3, 2, 4)\n",
    "if 'sex' in df_clean.columns:\n",
    "    pd.crosstab(df_clean['sex'], df_clean[target_col]).plot(kind='bar', stacked=True)\n",
    "    plt.title('Sex vs Heart Disease')\n",
    "    plt.xlabel('Sex (0=Female, 1=Male)')\n",
    "    plt.ylabel('Count')\n",
    "    plt.xticks(rotation=0)\n",
    "elif len(feature_cols_final) > 1:\n",
    "    second_feature = feature_cols_final[1]\n",
    "    pd.crosstab(df_clean[second_feature], df_clean[target_col]).plot(kind='bar', stacked=True)\n",
    "    plt.title(f'{second_feature} vs Heart Disease')"
   ]
  },
  {
   "cell_type": "code",
   "execution_count": 21,
   "id": "766be0dd",
   "metadata": {},
   "outputs": [
    {
     "data": {
      "text/plain": [
       "Text(0.5, 0, 'Absolute Correlation')"
      ]
     },
     "execution_count": 21,
     "metadata": {},
     "output_type": "execute_result"
    },
    {
     "data": {
      "image/png": "[encoded data removed]",
      "text/plain": [
       "<Figure size 1400x1000 with 1 Axes>"
      ]
     },
     "metadata": {},
     "output_type": "display_data"
    }
   ],
   "source": [
    "#Feature Importance Preview\n",
    "plt.figure(figsize=(14, 10))\n",
    "plt.subplot(3, 2, 5)\n",
    "feature_corr = df_processed[feature_cols_final].corrwith(df_processed[target_col]).abs().sort_values(ascending=False)\n",
    "top_corr_features = feature_corr.head(10)\n",
    "sns.barplot(x=top_corr_features.values, y=top_corr_features.index)\n",
    "plt.title('Top 10 Features by Correlation with Target')\n",
    "plt.xlabel('Absolute Correlation')"
   ]
  },
  {
   "cell_type": "code",
   "execution_count": 22,
   "id": "e2c2f704",
   "metadata": {},
   "outputs": [
    {
     "data": {
      "image/png": "[encoded data removed]",
      "text/plain": [
       "<Figure size 1200x1000 with 1 Axes>"
      ]
     },
     "metadata": {},
     "output_type": "display_data"
    }
   ],
   "source": [
    "# Dataset summary statistics\n",
    "plt.figure(figsize=(12, 10))\n",
    "plt.subplot(3, 2, 6)\n",
    "summary_stats = pd.DataFrame({\n",
    "    'Total Samples': [len(df_processed)],\n",
    "    'Features': [len(feature_cols_final)],\n",
    "    'Disease Cases': [sum(df_processed[target_col])],\n",
    "    'Healthy Cases': [len(df_processed) - sum(df_processed[target_col])],\n",
    "    'Missing Values': [df_clean.isnull().sum().sum()]\n",
    "})\n",
    "plt.axis('off')\n",
    "plt.table(cellText=summary_stats.values, colLabels=summary_stats.columns,\n",
    "          cellLoc='center', loc='center', bbox=[0, 0, 1, 1])\n",
    "plt.title('Dataset Summary Statistics')\n",
    "\n",
    "plt.tight_layout()\n",
    "if not os.path.exists('../results'):\n",
    "    os.makedirs('../results')\n",
    "plt.savefig('../results/eda_analysis.png', dpi=2000, bbox_inches='tight')\n",
    "plt.show()\n"
   ]
  },
  {
   "cell_type": "code",
   "execution_count": 23,
   "id": "6cc6ae9c",
   "metadata": {},
   "outputs": [
    {
     "name": "stdout",
     "output_type": "stream",
     "text": [
      "\n",
      "Cleaned dataset saved to '../data/cleaned_heart_disease.csv'\n",
      "Dataset shape: (303, 21)\n",
      "\n",
      "Dataset preprocessing completed successfully!\n",
      "- Original dataset: (303, 14)\n",
      "- Processed dataset: (303, 21)\n",
      "- Features: 20\n",
      "- Target: num\n",
      "- Files saved: cleaned_heart_disease.csv, dataset_info.json, scaler.pkl\n"
     ]
    }
   ],
   "source": [
    "#saving processed data\n",
    "df_processed.to_csv('../data/cleaned_heart_disease.csv', index=False)\n",
    "print(f\"\\nCleaned dataset saved to '../data/cleaned_heart_disease.csv'\")\n",
    "print(f\"Dataset shape: {df_processed.shape}\")\n",
    "\n",
    "# Save dataset metadata\n",
    "dataset_info = {\n",
    "    'original_shape': df.shape,\n",
    "    'final_shape': df_processed.shape,\n",
    "    'features': feature_cols_final,\n",
    "    'target_column': target_col,\n",
    "    'target_distribution': df_processed[target_col].value_counts().to_dict(),\n",
    "    'missing_values_handled': True,\n",
    "    'scaling_applied': True,\n",
    "    'categorical_encoding_applied': len(categorical_features) > 0,\n",
    "    'categorical_features_encoded': categorical_features\n",
    "}\n",
    "\n",
    "import json\n",
    "with open('../results/dataset_info.json', 'w') as f:\n",
    "    json.dump(dataset_info, f, indent=2)\n",
    "\n",
    "print(\"\\nDataset preprocessing completed successfully!\")\n",
    "print(f\"- Original dataset: {df.shape}\")\n",
    "print(f\"- Processed dataset: {df_processed.shape}\")\n",
    "print(f\"- Features: {len(feature_cols_final)}\")\n",
    "print(f\"- Target: {target_col}\")\n",
    "print(f\"- Files saved: cleaned_heart_disease.csv, dataset_info.json, scaler.pkl\")"
   ]
  },
  {
   "cell_type": "code",
   "execution_count": null,
   "id": "eea2006e",
   "metadata": {},
   "outputs": [],
   "source": []
  }
 ],
 "metadata": {
  "kernelspec": {
   "display_name": "heart_disease_env",
   "language": "python",
   "name": "python3"
  },
  "language_info": {
   "codemirror_mode": {
    "name": "ipython",
    "version": 3
   },
   "file_extension": ".py",
   "mimetype": "text/x-python",
   "name": "python",
   "nbconvert_exporter": "python",
   "pygments_lexer": "ipython3",
   "version": "3.12.6"
  }
 },
 "nbformat": 4,
 "nbformat_minor": 5
}
