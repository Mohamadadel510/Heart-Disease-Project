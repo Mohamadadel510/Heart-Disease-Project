{
 "cells": [
  {
   "cell_type": "code",
   "execution_count": 1,
   "id": "05ec4f2e",
   "metadata": {},
   "outputs": [],
   "source": [
    "from sklearn.model_selection import GridSearchCV, RandomizedSearchCV, train_test_split\n",
    "from sklearn.ensemble import RandomForestClassifier\n",
    "from sklearn.svm import SVC\n",
    "from sklearn.pipeline import Pipeline\n",
    "from sklearn.preprocessing import StandardScaler\n",
    "import joblib\n",
    "\n",
    "import pandas as pd\n"
   ]
  },
  {
   "cell_type": "code",
   "execution_count": 2,
   "id": "ef1f3917",
   "metadata": {},
   "outputs": [],
   "source": [
    "# load data \n",
    "df = pd.read_csv('../data/feature_selected.csv')\n",
    "x= df.drop('num', axis =1)\n",
    "y =df['num']\n",
    "#split data \n",
    "x_train, x_test, y_train, y_test = train_test_split(x, y, test_size=0.2, random_state=42)\n"
   ]
  },
  {
   "cell_type": "code",
   "execution_count": 3,
   "id": "8cd0ca5d",
   "metadata": {},
   "outputs": [],
   "source": [
    "#hyperparameter grids \n",
    "param_grids ={\n",
    "    'Random Forest': {\n",
    "        'model__n_estimators': [100, 200, 300],\n",
    "        'model__max_depth': [None, 10, 20],\n",
    "        'model__min_samples_split': [2, 5, 10],\n",
    "        'model__min_samples_leaf': [1, 2, 4]\n",
    "    },\n",
    "    'SVM': {\n",
    "        'model__C': [0.1, 1, 10],\n",
    "        'model__gamma': ['scale', 'auto', 0.01, 0.1],\n",
    "        'model__kernel': ['rbf', 'poly']\n",
    "    }\n",
    "}"
   ]
  },
  {
   "cell_type": "code",
   "execution_count": 4,
   "id": "a93467da",
   "metadata": {},
   "outputs": [
    {
     "name": "stdout",
     "output_type": "stream",
     "text": [
      "Random Forest best params: {'model__max_depth': None, 'model__min_samples_leaf': 2, 'model__min_samples_split': 10, 'model__n_estimators': 200}\n",
      "Random Forest best score: 0.757\n",
      "SVM best params: {'model__C': 10, 'model__gamma': 'scale', 'model__kernel': 'rbf'}\n",
      "SVM best score: 0.774\n"
     ]
    }
   ],
   "source": [
    "#grid search \n",
    "best_models={}\n",
    "for model_name , params in param_grids.items():\n",
    "    if model_name == 'Random Forest':\n",
    "        pipeline = Pipeline([\n",
    "            ('scalar', StandardScaler()),\n",
    "            ('model', RandomForestClassifier(random_state=42))\n",
    "        ])\n",
    "    elif model_name== 'SVM':\n",
    "        pipeline =Pipeline([\n",
    "            ('scaler', StandardScaler()),\n",
    "            ('model', SVC(random_state=42, probability=True))\n",
    "        ])\n",
    "    grid_search = GridSearchCV(pipeline, params, cv=5, scoring = 'f1', n_jobs=-1)\n",
    "    grid_search.fit(x_train , y_train)\n",
    "    best_models[model_name] = grid_search.best_estimator_\n",
    "    print(f\"{model_name} best params: {grid_search.best_params_}\")\n",
    "    print(f\"{model_name} best score: {grid_search.best_score_:.3f}\")\n",
    "    \n",
    "    "
   ]
  },
  {
   "cell_type": "code",
   "execution_count": 5,
   "id": "eaac616e",
   "metadata": {},
   "outputs": [
    {
     "data": {
      "text/plain": [
       "['../models/complete_pipeline.pkl']"
      ]
     },
     "execution_count": 5,
     "metadata": {},
     "output_type": "execute_result"
    }
   ],
   "source": [
    "#save the best model \n",
    "final_model = best_models['SVM']\n",
    "joblib.dump(final_model, '../models/complete_pipeline.pkl')\n"
   ]
  },
  {
   "cell_type": "code",
   "execution_count": 6,
   "id": "71a4defd",
   "metadata": {},
   "outputs": [
    {
     "name": "stdout",
     "output_type": "stream",
     "text": [
      "Final model saved: <class 'sklearn.pipeline.Pipeline'>\n",
      "Selected features: ['oldpeak', 'thal_7.0', 'cp_4', 'exang', 'slope_2']\n"
     ]
    }
   ],
   "source": [
    "# Save selected features for the app\n",
    "selected_features = list(x.columns)\n",
    "joblib.dump(selected_features, '../models/selected_features.pkl')\n",
    "print(f\"Final model saved: {type(final_model)}\")\n",
    "print(f\"Selected features: {selected_features}\")\n"
   ]
  },
  {
   "cell_type": "code",
   "execution_count": 7,
   "id": "eb9d3029",
   "metadata": {},
   "outputs": [
    {
     "name": "stdout",
     "output_type": "stream",
     "text": [
      "Test prediction: [0]\n",
      "Test probability: [[0.79388396 0.20611604]]\n"
     ]
    }
   ],
   "source": [
    "#test model \n",
    "test_prediction = final_model.predict(x_test[:1])\n",
    "test_probability = final_model.predict_proba(x_test[:1])\n",
    "print(f\"Test prediction: {test_prediction}\")\n",
    "print(f\"Test probability: {test_probability}\")"
   ]
  }
 ],
 "metadata": {
  "kernelspec": {
   "display_name": "heart_disease_env",
   "language": "python",
   "name": "python3"
  },
  "language_info": {
   "codemirror_mode": {
    "name": "ipython",
    "version": 3
   },
   "file_extension": ".py",
   "mimetype": "text/x-python",
   "name": "python",
   "nbconvert_exporter": "python",
   "pygments_lexer": "ipython3",
   "version": "3.12.6"
  }
 },
 "nbformat": 4,
 "nbformat_minor": 5
}
